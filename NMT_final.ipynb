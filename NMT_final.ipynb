{
  "nbformat": 4,
  "nbformat_minor": 0,
  "metadata": {
    "kernelspec": {
      "display_name": "Python 3",
      "language": "python",
      "name": "python3"
    },
    "language_info": {
      "codemirror_mode": {
        "name": "ipython",
        "version": 3
      },
      "file_extension": ".py",
      "mimetype": "text/x-python",
      "name": "python",
      "nbconvert_exporter": "python",
      "pygments_lexer": "ipython3",
      "version": "3.8.2"
    },
    "colab": {
      "name": "NMT_final.ipynb",
      "provenance": [],
      "collapsed_sections": []
    },
    "accelerator": "GPU"
  },
  "cells": [
    {
      "cell_type": "code",
      "metadata": {
        "id": "wGTBgGvtTSac",
        "colab_type": "code",
        "outputId": "810c715a-e580-4f5f-c090-6a864e17b02f",
        "colab": {
          "base_uri": "https://localhost:8080/",
          "height": 106
        }
      },
      "source": [
        "# \n",
        "# \n",
        "# This still needs work\n",
        "# \n",
        "# \n",
        "# \n",
        "\n",
        "\n",
        "\n",
        "import numpy as np # linear algebra\n",
        "import pandas as pd # data processing, CSV file I/O (e.g. pd.read_csv)\n",
        "\n",
        "# Input data files are available in the \"../input/\" directory.\n",
        "# For example, running this (by clicking run or pressing Shift+Enter) will list the files in the input directory\n",
        "from numpy import array\n",
        "import os\n",
        "import string\n",
        "from string import digits\n",
        "import matplotlib.pyplot as plt\n",
        "%matplotlib inline\n",
        "import re\n",
        "import pickle\n",
        "from keras.preprocessing.sequence import pad_sequences\n",
        "import seaborn as sns\n",
        "from sklearn.utils import shuffle\n",
        "from sklearn.model_selection import train_test_split\n",
        "from keras.layers import Input, LSTM, Embedding, Dense, RepeatVector, TimeDistributed\n",
        "from keras.models import Model, Sequential\n",
        "from keras.preprocessing.text import Tokenizer\n",
        "from keras.utils import to_categorical\n",
        "from keras.utils.vis_utils import plot_model\n",
        "from tensorflow.keras.optimizers import Adam, RMSprop, SGD\n",
        "from keras.regularizers import l1, l2, l1_l2\n",
        "# print(os.listdir(\"../input\"))\n",
        "from keras.callbacks import ModelCheckpoint\n",
        "import tensorflow as tf\n",
        "import matplotlib.pyplot as plt\n",
        "from nltk.translate.bleu_score import corpus_bleu\n",
        "\n",
        "pd.set_option('display.max_rows', 500)\n",
        "pd.set_option('display.max_columns', 500)\n",
        "pd.set_option('display.width', 1000)\n",
        "pd.set_option('display.max_colwidth', -1)\n",
        "\n",
        "# Any results you write to the current directory are saved as output."
      ],
      "execution_count": 0,
      "outputs": [
        {
          "output_type": "stream",
          "text": [
            "Using TensorFlow backend.\n",
            "/usr/local/lib/python3.6/dist-packages/statsmodels/tools/_testing.py:19: FutureWarning: pandas.util.testing is deprecated. Use the functions in the public API at pandas.testing instead.\n",
            "  import pandas.util.testing as tm\n",
            "/usr/local/lib/python3.6/dist-packages/ipykernel_launcher.py:34: FutureWarning: Passing a negative integer is deprecated in version 1.0 and will not be supported in future version. Instead, use None to not limit the column width.\n"
          ],
          "name": "stderr"
        }
      ]
    },
    {
      "cell_type": "code",
      "metadata": {
        "id": "kR6wORBdwjoz",
        "colab_type": "code",
        "colab": {}
      },
      "source": [
        ""
      ],
      "execution_count": 0,
      "outputs": []
    },
    {
      "cell_type": "code",
      "metadata": {
        "id": "202ETP_HTSfs",
        "colab_type": "code",
        "colab": {}
      },
      "source": [
        "lines = pickle.load(open(\"drive/My Drive/NMT project/nmt_data.pickle\", \"rb\"))"
      ],
      "execution_count": 0,
      "outputs": []
    },
    {
      "cell_type": "code",
      "metadata": {
        "id": "UyXrOdYKc2An",
        "colab_type": "code",
        "colab": {}
      },
      "source": [
        "# lines = lines[:5120]"
      ],
      "execution_count": 0,
      "outputs": []
    },
    {
      "cell_type": "code",
      "metadata": {
        "id": "XnJeTpFMVLc0",
        "colab_type": "code",
        "outputId": "97763b68-f2b6-4010-8df3-d8f2e9f31f0f",
        "colab": {
          "base_uri": "https://localhost:8080/",
          "height": 34
        }
      },
      "source": [
        "len(lines)"
      ],
      "execution_count": 0,
      "outputs": [
        {
          "output_type": "execute_result",
          "data": {
            "text/plain": [
              "10077"
            ]
          },
          "metadata": {
            "tags": []
          },
          "execution_count": 5
        }
      ]
    },
    {
      "cell_type": "code",
      "metadata": {
        "id": "La3OOSozNpQ1",
        "colab_type": "code",
        "colab": {}
      },
      "source": [
        "all_hindi_words, all_eng_words, max_length_tar, max_length_src = pickle.load(open(\"drive/My Drive/NMT project/variable.pickle\", \"rb\"))"
      ],
      "execution_count": 0,
      "outputs": []
    },
    {
      "cell_type": "code",
      "metadata": {
        "id": "hg2s0PSmOw1t",
        "colab_type": "code",
        "colab": {}
      },
      "source": [
        "input_words = sorted(all_eng_words)\n",
        "target_words = sorted(all_hindi_words)"
      ],
      "execution_count": 0,
      "outputs": []
    },
    {
      "cell_type": "code",
      "metadata": {
        "id": "HNdtBxCxTSfw",
        "colab_type": "code",
        "colab": {}
      },
      "source": [
        "train, test = lines[:4096], lines[4096:]"
      ],
      "execution_count": 0,
      "outputs": []
    },
    {
      "cell_type": "code",
      "metadata": {
        "id": "owgIxkTX6UTg",
        "colab_type": "code",
        "colab": {}
      },
      "source": [
        "with open(\"test-data.pickle\", \"wb\") as files:\n",
        "  pickle.dump(test, files)"
      ],
      "execution_count": 0,
      "outputs": []
    },
    {
      "cell_type": "code",
      "metadata": {
        "id": "mD9d5KTi8TMP",
        "colab_type": "code",
        "colab": {}
      },
      "source": [
        "with open(\"train-data.pickle\", \"wb\") as files:\n",
        "  pickle.dump(train, files)\n"
      ],
      "execution_count": 0,
      "outputs": []
    },
    {
      "cell_type": "code",
      "metadata": {
        "id": "Lv3XvTn98Yhq",
        "colab_type": "code",
        "colab": {}
      },
      "source": [
        "with open(\"both.pickle\", \"wb\") as files:\n",
        "  pickle.dump(lines, files)"
      ],
      "execution_count": 0,
      "outputs": []
    },
    {
      "cell_type": "code",
      "metadata": {
        "id": "QMsfyOsVTSf2",
        "colab_type": "code",
        "outputId": "93cd5d73-fbe7-47da-ee86-2d3123e49e4f",
        "colab": {
          "base_uri": "https://localhost:8080/",
          "height": 34
        }
      },
      "source": [
        "train.shape, test.shape"
      ],
      "execution_count": 0,
      "outputs": [
        {
          "output_type": "execute_result",
          "data": {
            "text/plain": [
              "((4096, 4), (5981, 4))"
            ]
          },
          "metadata": {
            "tags": []
          },
          "execution_count": 12
        }
      ]
    },
    {
      "cell_type": "code",
      "metadata": {
        "id": "lqLR3v88TSf7",
        "colab_type": "code",
        "outputId": "829f7e93-9306-4c04-9313-17df7a06236b",
        "colab": {
          "base_uri": "https://localhost:8080/",
          "height": 258
        }
      },
      "source": [
        "train.head()"
      ],
      "execution_count": 0,
      "outputs": [
        {
          "output_type": "execute_result",
          "data": {
            "text/html": [
              "<div>\n",
              "<style scoped>\n",
              "    .dataframe tbody tr th:only-of-type {\n",
              "        vertical-align: middle;\n",
              "    }\n",
              "\n",
              "    .dataframe tbody tr th {\n",
              "        vertical-align: top;\n",
              "    }\n",
              "\n",
              "    .dataframe thead th {\n",
              "        text-align: right;\n",
              "    }\n",
              "</style>\n",
              "<table border=\"1\" class=\"dataframe\">\n",
              "  <thead>\n",
              "    <tr style=\"text-align: right;\">\n",
              "      <th></th>\n",
              "      <th>english_sentence</th>\n",
              "      <th>hindi_sentence</th>\n",
              "      <th>length_eng_sentence</th>\n",
              "      <th>length_hin_sentence</th>\n",
              "    </tr>\n",
              "  </thead>\n",
              "  <tbody>\n",
              "    <tr>\n",
              "      <th>82040</th>\n",
              "      <td>we still dont know who her parents are who she is</td>\n",
              "      <td>START_ हम अभी तक नहीं जानते हैं कि उसके मातापिता कौन हैं वह कौन है _END</td>\n",
              "      <td>11</td>\n",
              "      <td>16</td>\n",
              "    </tr>\n",
              "    <tr>\n",
              "      <th>85038</th>\n",
              "      <td>no keyboard</td>\n",
              "      <td>START_ कोई कुंजीपटल नहीं _END</td>\n",
              "      <td>2</td>\n",
              "      <td>5</td>\n",
              "    </tr>\n",
              "    <tr>\n",
              "      <th>58018</th>\n",
              "      <td>but as far as being a performer</td>\n",
              "      <td>START_ लेकिन एक कलाकार होने के साथ _END</td>\n",
              "      <td>7</td>\n",
              "      <td>8</td>\n",
              "    </tr>\n",
              "    <tr>\n",
              "      <th>74470</th>\n",
              "      <td>and this particular balloon</td>\n",
              "      <td>START_ और यह खास गुब्बारा _END</td>\n",
              "      <td>4</td>\n",
              "      <td>6</td>\n",
              "    </tr>\n",
              "    <tr>\n",
              "      <th>122330</th>\n",
              "      <td>and its not as hard as you think integrate climate solutions into all of your innovations</td>\n",
              "      <td>START_ और जितना आपको लगता है यह उतना कठिन नहीं हैअपने सभी नवाचारों में जलवायु समाधान को एकीकृत करें _END</td>\n",
              "      <td>16</td>\n",
              "      <td>20</td>\n",
              "    </tr>\n",
              "  </tbody>\n",
              "</table>\n",
              "</div>"
            ],
            "text/plain": [
              "                                                                                 english_sentence                                                                                            hindi_sentence  length_eng_sentence  length_hin_sentence\n",
              "82040   we still dont know who her parents are who she is                                          START_ हम अभी तक नहीं जानते हैं कि उसके मातापिता कौन हैं वह कौन है _END                                   11                   16                 \n",
              "85038   no keyboard                                                                                START_ कोई कुंजीपटल नहीं _END                                                                             2                    5                  \n",
              "58018   but as far as being a performer                                                            START_ लेकिन एक कलाकार होने के साथ _END                                                                   7                    8                  \n",
              "74470   and this particular balloon                                                                START_ और यह खास गुब्बारा _END                                                                            4                    6                  \n",
              "122330  and its not as hard as you think integrate climate solutions into all of your innovations  START_ और जितना आपको लगता है यह उतना कठिन नहीं हैअपने सभी नवाचारों में जलवायु समाधान को एकीकृत करें _END  16                   20                 "
            ]
          },
          "metadata": {
            "tags": []
          },
          "execution_count": 13
        }
      ]
    },
    {
      "cell_type": "code",
      "metadata": {
        "id": "OyzZ6ESITSgE",
        "colab_type": "code",
        "colab": {}
      },
      "source": [
        "eng_vocab_size = len(all_eng_words)+1\n",
        "hin_vocab_size = len(all_hindi_words)+1"
      ],
      "execution_count": 0,
      "outputs": []
    },
    {
      "cell_type": "code",
      "metadata": {
        "id": "zI9SRt16TSgd",
        "colab_type": "code",
        "colab": {}
      },
      "source": [
        "# dictionary to map words to numbers and its reverse\n",
        "eng_char_token = dict([(word, i+1) for i, word in enumerate(input_words)])\n",
        "hin_char_token = dict([(word, i+1) for i, word in enumerate(target_words)])\n",
        "\n"
      ],
      "execution_count": 0,
      "outputs": []
    },
    {
      "cell_type": "code",
      "metadata": {
        "id": "tS9bq_xcTSgi",
        "colab_type": "code",
        "colab": {}
      },
      "source": [
        "rev_eng_char_token = dict([(i, word) for i, word in enumerate(input_words)])\n",
        "rev_hin_char_token = dict([(i, word) for i, word in enumerate(target_words)])"
      ],
      "execution_count": 0,
      "outputs": []
    },
    {
      "cell_type": "code",
      "metadata": {
        "id": "EpEzheXz78DA",
        "colab_type": "code",
        "colab": {}
      },
      "source": [
        "with open(\"dics.pickle\", \"wb\") as files:\n",
        "  pickle.dump([eng_char_token, hin_char_token, rev_eng_char_token, rev_hin_char_token], files)"
      ],
      "execution_count": 0,
      "outputs": []
    },
    {
      "cell_type": "code",
      "metadata": {
        "id": "Vh3oDIZnTSgm",
        "colab_type": "code",
        "colab": {}
      },
      "source": [
        "def gen_batch(trainX, trainY, batch_size):\n",
        "\n",
        "  \n",
        "  while True:\n",
        "    encoder_inputs = np.zeros(shape=(batch_size, max_length_src), dtype=\"float32\")\n",
        "    decoder_inputs = np.zeros(shape=(batch_size, max_length_tar), dtype=\"float32\")  \n",
        "    one_hot_decoder_input = np.zeros(shape=(batch_size, max_length_tar, hin_vocab_size), dtype=\"float32\")\n",
        "    for t in range(0, len(lines), batch_size):\n",
        "      \n",
        "      for i,sentence in enumerate(trainX[t:t+batch_size]):\n",
        "        for j, word in enumerate(sentence.split()):\n",
        "              encoder_inputs[i, j] = eng_char_token[word] \n",
        "\n",
        "      for i,sentence in enumerate(trainY[t:t+batch_size]):\n",
        "          for j, word in enumerate(sentence.split()):\n",
        "              if j<len(sentence.split())-1:\n",
        "                  decoder_inputs[i, j] = hin_char_token[word] \n",
        "              if j>0:\n",
        "                  one_hot_decoder_input[i, j - 1, hin_char_token[word]] = 1\n",
        "      # print(encoder_inputs.shape)\n",
        "      # print(decoder_inputs.shape)\n",
        "      # print(one_hot_decoder_input.shape)\n",
        "      # encoder_inputs = np.reshape(encoder_inputs, newshape=(batch_size, -1, 1))\n",
        "      # one_hot_decoder_input = np.reshape(one_hot_decoder_input, newshape=(batch_size, 30, -1, 1))\n",
        "      yield ([encoder_inputs, decoder_inputs], one_hot_decoder_input)"
      ],
      "execution_count": 0,
      "outputs": []
    },
    {
      "cell_type": "code",
      "metadata": {
        "id": "EQDe3zpoTSg2",
        "colab_type": "code",
        "outputId": "bc18e234-e6a9-46e7-949a-50e3c9afe3fa",
        "colab": {
          "base_uri": "https://localhost:8080/",
          "height": 967
        }
      },
      "source": [
        "latent_dim = 512\n",
        "\n",
        "encoder_inp = Input(shape=(max_length_src,))\n",
        "encoder_embedding = Embedding(eng_vocab_size, latent_dim)(encoder_inp)\n",
        "encoder_lstm, state_h, state_c = LSTM(latent_dim,\n",
        "                            return_state=True)(encoder_embedding)\n",
        "encoder_states = [state_h, state_c]\n",
        "\n",
        "# Set up the decoder, using `encoder_states` as initial state.\n",
        "decoder_inp = Input(shape=(max_length_tar,))\n",
        "decoder_embedding = Embedding(hin_vocab_size, latent_dim)\n",
        "decoder_embedding_output = decoder_embedding(decoder_inp)\n",
        "decoder_lstm = LSTM(latent_dim, return_sequences=True)\n",
        "decoder_lstm_ouput = decoder_lstm(decoder_embedding_output, initial_state=encoder_states)\n",
        "decoder_dense = Dense(hin_vocab_size, activation='softmax')\n",
        "decoder_outputs = decoder_dense(decoder_lstm_ouput)\n",
        "  \n",
        "# Define the model that will turn\n",
        "# `encoder_input_data` & `decoder_input_data` into `decoder_target_data`\n",
        "model = Model([encoder_inp, decoder_inp], decoder_outputs)\n",
        "\n",
        "optimizer = Adam(learning_rate=0.0001)\n",
        "model.compile(optimizer=optimizer, loss='categorical_crossentropy')\n",
        "# summarize defined model\n",
        "print(model.summary())\n",
        "plot_model(model, to_file='model.png', show_shapes=True)"
      ],
      "execution_count": 0,
      "outputs": [
        {
          "output_type": "stream",
          "text": [
            "Model: \"model_1\"\n",
            "__________________________________________________________________________________________________\n",
            "Layer (type)                    Output Shape         Param #     Connected to                     \n",
            "==================================================================================================\n",
            "input_1 (InputLayer)            (None, 20)           0                                            \n",
            "__________________________________________________________________________________________________\n",
            "input_2 (InputLayer)            (None, 30)           0                                            \n",
            "__________________________________________________________________________________________________\n",
            "embedding_1 (Embedding)         (None, 20, 512)      4240384     input_1[0][0]                    \n",
            "__________________________________________________________________________________________________\n",
            "embedding_2 (Embedding)         (None, 30, 512)      5012992     input_2[0][0]                    \n",
            "__________________________________________________________________________________________________\n",
            "lstm_1 (LSTM)                   [(None, 512), (None, 2099200     embedding_1[0][0]                \n",
            "__________________________________________________________________________________________________\n",
            "lstm_2 (LSTM)                   (None, 30, 512)      2099200     embedding_2[0][0]                \n",
            "                                                                 lstm_1[0][1]                     \n",
            "                                                                 lstm_1[0][2]                     \n",
            "__________________________________________________________________________________________________\n",
            "dense_1 (Dense)                 (None, 30, 9791)     5022783     lstm_2[0][0]                     \n",
            "==================================================================================================\n",
            "Total params: 18,474,559\n",
            "Trainable params: 18,474,559\n",
            "Non-trainable params: 0\n",
            "__________________________________________________________________________________________________\n",
            "None\n"
          ],
          "name": "stdout"
        },
        {
          "output_type": "execute_result",
          "data": {
            "image/png": "[encoded data removed]",
            "text/plain": [
              "<IPython.core.display.Image object>"
            ]
          },
          "metadata": {
            "tags": []
          },
          "execution_count": 19
        }
      ]
    },
    {
      "cell_type": "code",
      "metadata": {
        "id": "kXPdEkoqTSg9",
        "colab_type": "code",
        "outputId": "2dd53a86-a9b9-42fe-e2f6-53677e4aa14d",
        "colab": {
          "base_uri": "https://localhost:8080/",
          "height": 52
        }
      },
      "source": [
        "batch_size = 256\n",
        "filename = 'nmt.h5'\n",
        "checkpoint = ModelCheckpoint(filename, monitor='val_loss', verbose=1, save_best_only=True, mode='min')\n",
        "history = model.fit_generator(generator=gen_batch(train[\"english_sentence\"], train[\"hindi_sentence\"], batch_size), \n",
        "                    steps_per_epoch=len(train)//batch_size, \n",
        "                    validation_data = gen_batch(test[\"english_sentence\"], test[\"hindi_sentence\"], batch_size),\n",
        "                    validation_steps = len(test)//batch_size,\n",
        "                    epochs=1, \n",
        "                    verbose=1)\n"
      ],
      "execution_count": 0,
      "outputs": [
        {
          "output_type": "stream",
          "text": [
            "Epoch 1/1\n",
            "16/16 [==============================] - 9s 559ms/step - loss: 40.2798 - val_loss: 59.0619\n"
          ],
          "name": "stdout"
        }
      ]
    },
    {
      "cell_type": "code",
      "metadata": {
        "id": "fFJF1Fkm9Z9n",
        "colab_type": "code",
        "outputId": "8f474e71-4987-469d-a772-2baf2c7cc626",
        "colab": {
          "base_uri": "https://localhost:8080/",
          "height": 295
        }
      },
      "source": [
        "plt.plot(history.history['loss'])\n",
        "plt.plot(history.history['val_loss'])\n",
        "plt.title('model loss')\n",
        "plt.ylabel('loss')\n",
        "plt.xlabel('epoch')\n",
        "plt.legend(['train', 'test'], loc='upper left')\n",
        "plt.show()"
      ],
      "execution_count": 0,
      "outputs": [
        {
          "output_type": "display_data",
          "data": {
            "image/png": "[encoded data removed]",
            "text/plain": [
              "<Figure size 432x288 with 1 Axes>"
            ]
          },
          "metadata": {
            "tags": [],
            "needs_background": "light"
          }
        }
      ]
    },
    {
      "cell_type": "code",
      "metadata": {
        "id": "cRBf9zoIFox0",
        "colab_type": "code",
        "colab": {}
      },
      "source": [
        "test = lines[5120:5200]"
      ],
      "execution_count": 0,
      "outputs": []
    },
    {
      "cell_type": "code",
      "metadata": {
        "id": "cjcxZ52RB4tO",
        "colab_type": "code",
        "colab": {}
      },
      "source": [
        "encoder_inputs = np.zeros(shape=(test.shape[0], 20), dtype=\"float32\")\n",
        "decoder_inputs = np.zeros(shape=(test.shape[0], 30), dtype=\"float32\")  \n",
        "one_hot_decoder_input = np.zeros(shape=(test.shape[0], 30, 10542), dtype=\"float32\")\n",
        "\n",
        "for i,sentence in enumerate(test[\"english_sentence\"]):\n",
        "    for j, word in enumerate(sentence.split()):\n",
        "        encoder_inputs[i, j] = eng_char_token[word] \n",
        "\n",
        "for i,sentence in enumerate(test[\"hindi_sentence\"]):\n",
        "    for j, word in enumerate(sentence.split()):\n",
        "        if j<len(sentence.split())-1:\n",
        "            decoder_inputs[i, j] = hin_char_token[word] \n",
        "        if j>0:\n",
        "            one_hot_decoder_input[i, j - 1, hin_char_token[word]] = 1"
      ],
      "execution_count": 0,
      "outputs": []
    },
    {
      "cell_type": "code",
      "metadata": {
        "id": "S2Nfq6Uq7az_",
        "colab_type": "code",
        "outputId": "bd0ba634-b8cc-402d-d053-c34802078777",
        "colab": {
          "base_uri": "https://localhost:8080/",
          "height": 379
        }
      },
      "source": [
        "# Encode the input sequence to get the \"thought vectors\"\n",
        "encoder_model = Model(encoder_inp, encoder_states)\n",
        "\n",
        "# Decoder setup\n",
        "# Below tensors will hold the states of the previous time step\n",
        "decoder_state_input_h = Input(shape=(latent_dim,))\n",
        "decoder_state_input_c = Input(shape=(latent_dim,))\n",
        "decoder_states_inputs = [decoder_state_input_h, decoder_state_input_c]\n",
        "dec_emb2 = decoder_embedding(decoder_inp) # Get the embeddings of the decoder sequence\n",
        "# To predict the next word in the sequence, set the initial states to the states from the previous time step\n",
        "decoder_outputs2, state_h2, state_c2 = decoder_lstm(dec_emb2, initial_state=decoder_states_inputs)\n",
        "decoder_states2 = [state_h2, state_c2]\n",
        "decoder_outputs2 = decoder_dense(decoder_outputs2) # A dense softmax layer to generate prob dist. over the target vocabulary\n",
        "\n",
        "# Final decoder model\n",
        "decoder_model = Model(\n",
        "    [decoder_inp] + encoder_states,\n",
        "    [decoder_outputs2] + decoder_states2)"
      ],
      "execution_count": 0,
      "outputs": [
        {
          "output_type": "error",
          "ename": "TypeError",
          "evalue": "ignored",
          "traceback": [
            "\u001b[0;31m---------------------------------------------------------------------------\u001b[0m",
            "\u001b[0;31mTypeError\u001b[0m                                 Traceback (most recent call last)",
            "\u001b[0;32m<ipython-input-29-37047b3c10d8>\u001b[0m in \u001b[0;36m<module>\u001b[0;34m()\u001b[0m\n\u001b[1;32m      9\u001b[0m \u001b[0mdec_emb2\u001b[0m \u001b[0;34m=\u001b[0m \u001b[0mdecoder_embedding\u001b[0m\u001b[0;34m(\u001b[0m\u001b[0mdecoder_inp\u001b[0m\u001b[0;34m)\u001b[0m \u001b[0;31m# Get the embeddings of the decoder sequence\u001b[0m\u001b[0;34m\u001b[0m\u001b[0;34m\u001b[0m\u001b[0m\n\u001b[1;32m     10\u001b[0m \u001b[0;31m# To predict the next word in the sequence, set the initial states to the states from the previous time step\u001b[0m\u001b[0;34m\u001b[0m\u001b[0;34m\u001b[0m\u001b[0;34m\u001b[0m\u001b[0m\n\u001b[0;32m---> 11\u001b[0;31m \u001b[0mdecoder_outputs2\u001b[0m\u001b[0;34m,\u001b[0m \u001b[0mstate_h2\u001b[0m\u001b[0;34m,\u001b[0m \u001b[0mstate_c2\u001b[0m \u001b[0;34m=\u001b[0m \u001b[0mdecoder_lstm\u001b[0m\u001b[0;34m(\u001b[0m\u001b[0mdec_emb2\u001b[0m\u001b[0;34m,\u001b[0m \u001b[0minitial_state\u001b[0m\u001b[0;34m=\u001b[0m\u001b[0mdecoder_states_inputs\u001b[0m\u001b[0;34m)\u001b[0m\u001b[0;34m\u001b[0m\u001b[0;34m\u001b[0m\u001b[0m\n\u001b[0m\u001b[1;32m     12\u001b[0m \u001b[0mdecoder_states2\u001b[0m \u001b[0;34m=\u001b[0m \u001b[0;34m[\u001b[0m\u001b[0mstate_h2\u001b[0m\u001b[0;34m,\u001b[0m \u001b[0mstate_c2\u001b[0m\u001b[0;34m]\u001b[0m\u001b[0;34m\u001b[0m\u001b[0;34m\u001b[0m\u001b[0m\n\u001b[1;32m     13\u001b[0m \u001b[0mdecoder_outputs2\u001b[0m \u001b[0;34m=\u001b[0m \u001b[0mdecoder_dense\u001b[0m\u001b[0;34m(\u001b[0m\u001b[0mdecoder_outputs2\u001b[0m\u001b[0;34m)\u001b[0m \u001b[0;31m# A dense softmax layer to generate prob dist. over the target vocabulary\u001b[0m\u001b[0;34m\u001b[0m\u001b[0;34m\u001b[0m\u001b[0m\n",
            "\u001b[0;32m/usr/local/lib/python3.6/dist-packages/tensorflow/python/framework/ops.py\u001b[0m in \u001b[0;36m__iter__\u001b[0;34m(self)\u001b[0m\n\u001b[1;32m    568\u001b[0m     \u001b[0;32mif\u001b[0m \u001b[0mshape\u001b[0m\u001b[0;34m[\u001b[0m\u001b[0;36m0\u001b[0m\u001b[0;34m]\u001b[0m \u001b[0;32mis\u001b[0m \u001b[0;32mNone\u001b[0m\u001b[0;34m:\u001b[0m\u001b[0;34m\u001b[0m\u001b[0;34m\u001b[0m\u001b[0m\n\u001b[1;32m    569\u001b[0m       raise TypeError(\n\u001b[0;32m--> 570\u001b[0;31m           \"Cannot iterate over a tensor with unknown first dimension.\")\n\u001b[0m\u001b[1;32m    571\u001b[0m     \u001b[0;32mreturn\u001b[0m \u001b[0m_TensorIterator\u001b[0m\u001b[0;34m(\u001b[0m\u001b[0mself\u001b[0m\u001b[0;34m,\u001b[0m \u001b[0mshape\u001b[0m\u001b[0;34m[\u001b[0m\u001b[0;36m0\u001b[0m\u001b[0;34m]\u001b[0m\u001b[0;34m)\u001b[0m\u001b[0;34m\u001b[0m\u001b[0;34m\u001b[0m\u001b[0m\n\u001b[1;32m    572\u001b[0m \u001b[0;34m\u001b[0m\u001b[0m\n",
            "\u001b[0;31mTypeError\u001b[0m: Cannot iterate over a tensor with unknown first dimension."
          ]
        }
      ]
    },
    {
      "cell_type": "code",
      "metadata": {
        "id": "3dWZyOpDu3z5",
        "colab_type": "code",
        "colab": {}
      },
      "source": [
        "def decode_sequence(input_seq):\n",
        "    # Encode the input as state vectors.\n",
        "    states_value = encoder_model.predict(input_seq)\n",
        "    # Generate empty target sequence of length 1.\n",
        "    target_seq = np.zeros((1,1))\n",
        "    # Populate the first character of target sequence with the start character.\n",
        "    target_seq[0, 0] = target_token_index['START_']\n",
        "\n",
        "    # Sampling loop for a batch of sequences\n",
        "    # (to simplify, here we assume a batch of size 1).\n",
        "    stop_condition = False\n",
        "    decoded_sentence = ''\n",
        "    while not stop_condition:\n",
        "        output_tokens, h, c = decoder_model.predict([target_seq] + states_value)\n",
        "\n",
        "        # Sample a token\n",
        "        sampled_token_index = np.argmax(output_tokens[0, -1, :])\n",
        "        sampled_char = reverse_target_char_index[sampled_token_index]\n",
        "        decoded_sentence += ' '+sampled_char\n",
        "\n",
        "        # Exit condition: either hit max length\n",
        "        # or find stop character.\n",
        "        if (sampled_char == '_END' or\n",
        "           len(decoded_sentence) > 50):\n",
        "            stop_condition = True\n",
        "\n",
        "        # Update the target sequence (of length 1).\n",
        "        target_seq = np.zeros((1,1))\n",
        "        target_seq[0, 0] = sampled_token_index\n",
        "\n",
        "        # Update states\n",
        "        states_value = [h, c]\n",
        "\n",
        "    return decoded_sentence"
      ],
      "execution_count": 0,
      "outputs": []
    },
    {
      "cell_type": "code",
      "metadata": {
        "id": "bitPgyiuu60x",
        "colab_type": "code",
        "colab": {}
      },
      "source": [
        "train_gen = generate_batch(X_train, y_train, batch_size = 1)\n",
        "k=-1"
      ],
      "execution_count": 0,
      "outputs": []
    },
    {
      "cell_type": "code",
      "metadata": {
        "id": "g5tBpY3zu-o_",
        "colab_type": "code",
        "colab": {}
      },
      "source": [
        "k+=1\n",
        "(input_seq, actual_output), _ = next(train_gen)\n",
        "decoded_sentence = decode_sequence(input_seq)\n",
        "print('Input English sentence:', train[\"english_sentence\"][k:k+1].values[0])\n",
        "print('Actual Hindi Translation:', train[\"hindi_sentence\"][k:k+1].values[0][6:-4])\n",
        "print('Predicted Hindi Translation:', decoded_sentence[:-4])"
      ],
      "execution_count": 0,
      "outputs": []
    },
    {
      "cell_type": "code",
      "metadata": {
        "id": "WOt5On7ku_uk",
        "colab_type": "code",
        "colab": {}
      },
      "source": [
        "k+=1\n",
        "(input_seq, actual_output), _ = next(train_gen)\n",
        "decoded_sentence = decode_sequence(input_seq)\n",
        "print('Input English sentence:', train[\"english_sentence\"][k:k+1].values[0])\n",
        "print('Actual Hindi Translation:', train[\"hindi_sentence\"][k:k+1].values[0][6:-4])\n",
        "print('Predicted Hindi Translation:', decoded_sentence[:-4])"
      ],
      "execution_count": 0,
      "outputs": []
    }
  ]
}